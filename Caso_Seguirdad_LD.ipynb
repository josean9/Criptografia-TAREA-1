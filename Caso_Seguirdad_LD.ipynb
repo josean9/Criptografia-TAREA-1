{
 "cells": [
  {
   "cell_type": "markdown",
   "metadata": {},
   "source": [
    "## Demostración de seguridad usando Raiz primitiva en Problema del Logaritmo Discreto\n",
    "\n",
    "El **logaritmo discreto** consiste en encontrar el entero \\( x \\) que satisface:\n",
    "\n",
    "$$\n",
    "\\\n",
    "g^x \\equiv y \\pmod{p}\n",
    "\\\n",
    "$$\n",
    "\n",
    "donde:\n",
    "\n",
    "- \\( p \\) es un número primo.\n",
    "- \\( g \\) es una raíz primitiva de \\( p \\)\n",
    "- \\( y \\) es un entero tal que $ ( y = g^x \\mod p ) $.\n",
    "\n",
    "Existen diferentes métodos para resolver este problema:\n",
    "1. **Búsqueda Exhaustiva (Brute Force):**  \n",
    "   Se prueban todos los valores \\( x = 0, 1, 2,... p-1 \\). Su complejidad es \\( O(p) \\) y resulta ineficiente para valores grandes.\n",
    "2. **Baby-step Giant-step (BSGS):**  \n",
    "   Este algoritmo reduce la complejidad a \\( O($\\sqrt{p}$) \\) dividiendo el problema en dos fases (baby-steps y giant-steps).\n",
    "\n",
    "## Caso real\n",
    "La empresa CBA está usando siempre el mismo número $ \\alpha $ para realizar todas sus claves de firma en el algoritmo DSA.\n",
    "Aunque lleva muchos años usando siempre el mismo número. la última auditoria externa realizada en la empresa le han penalizado por usar Firmas Digitales poco seguras en el entorno actual.\n",
    "\n",
    "### Objetivo\n",
    "Como criptoanalista debes mostrar en la reunión de dirección porque es será muy positivo implementar un nuevo flujo de trabajo que haga las claves de firma con un $ \\alpha $ que sea raiz primitiva con el módulo elegido.\n",
    "\n",
    "¿Cual sería esa grafica que mostrarias y tu parte explicativa?\n"
   ]
  },
  {
   "cell_type": "code",
   "execution_count": null,
   "metadata": {},
   "outputs": [],
   "source": [
    "import math\n",
    "import time\n",
    "import random\n",
    "import matplotlib.pyplot as plt\n",
    "import sympy  # obtener raíces primitivas\n",
    "import libnum  # para trabajar con números grandes"
   ]
  },
  {
   "cell_type": "code",
   "execution_count": null,
   "metadata": {},
   "outputs": [],
   "source": [
    "def discrete_log_brute_force(g, y, p):\n",
    "    for x in range(p):\n",
    "        if pow(g, x, p) == y:\n",
    "            return x\n",
    "    return None\n",
    "\n",
    "# Baby-step Giant-step (BSGS)\n",
    "def discrete_log_bsgs(g, y, p):\n",
    "    m = math.isqrt(p - 1) + 1  # m = ceil(sqrt(p-1))\n",
    "    # Baby-steps: precomputamos g^j for j = 0, 1, ..., m-1\n",
    "    baby_steps = {}\n",
    "    for j in range(m):\n",
    "        baby_steps[pow(g, j, p)] = j\n",
    "\n",
    "    # Calcular g^(-m) mod p\n",
    "    c = pow(g, m, p)\n",
    "    c_inv = pow(c, -1, p)  # O bien usando sympy.mod_inverse(c, p)\n",
    "\n",
    "    gamma = y\n",
    "    for i in range(m):\n",
    "        if gamma in baby_steps:\n",
    "            return i * m + baby_steps[gamma]\n",
    "        gamma = (gamma * c_inv) % p\n",
    "    return None\n"
   ]
  },
  {
   "cell_type": "code",
   "execution_count": null,
   "metadata": {},
   "outputs": [],
   "source": [
    "# Lista de tamaños en bits para p\n",
    "bit_sizes = [12, 14, 16]  # Se pueden agregar tamaños mayores (con precaución)\n",
    "times_bruteforce = [] # tiempos de ejecución para brute force\n",
    "times_bsgs = []     # tiempos de ejecución para BSGS\n",
    "\n",
    "# Para cada tamaño en bits, se genera un primo, se obtiene una raíz primitiva,\n",
    "# se elige un exponente secreto x, se calcula y y se mide el tiempo para hallar x\n",
    "for bits in bit_sizes:\n",
    "    p = libnum.generate_prime(bits) # primo de 'bits' bits\n",
    "    g = sympy.primitive_root(p) # raíz primitiva\n",
    "    \n",
    "    x_true = random.randint(1, p-1) # exponente secreto\n",
    "    y_val = pow(g, x_true, p) # y = g^x mod p\n",
    "    \n",
    "    # Medir tiempo para brute force\n",
    "    start_time = time.perf_counter()\n",
    "    x_bf = discrete_log_brute_force(g, y_val, p) \n",
    "    end_time = time.perf_counter()\n",
    "    t_bf = end_time - start_time\n",
    "    times_bruteforce.append(t_bf)\n",
    "    \n",
    "    # Medir tiempo para BSGS\n",
    "    start_time = time.perf_counter()\n",
    "    x_bsgs = discrete_log_bsgs(g, y_val, p)\n",
    "    end_time = time.perf_counter()\n",
    "    t_bsgs = end_time - start_time\n",
    "    times_bsgs.append(t_bsgs)\n",
    "    \n",
    "    print(f\"Bits: {bits}, p: {p}, g: {g}, x_true: {x_true}, x_bf: {x_bf}, x_bsgs: {x_bsgs}\")\n",
    "    print(f\"Tiempo Brute Force: {t_bf:.6f} s, Tiempo BSGS: {t_bsgs:.6f} s\\n\")"
   ]
  },
  {
   "cell_type": "code",
   "execution_count": null,
   "metadata": {},
   "outputs": [],
   "source": [
    "# Graficar la comparativa\n",
    "plt.figure(figsize=(8,6))\n",
    "plt.plot(bit_sizes, times_bruteforce, marker='o', linestyle='-', color='red', label='Búsqueda Exhaustiva')\n",
    "plt.plot(bit_sizes, times_bsgs, marker='o', linestyle='-', color='blue', label='Baby-step Giant-step')\n",
    "plt.xlabel(\"Tamaño en bits del primo \\(p\\)\")\n",
    "plt.ylabel(\"Tiempo de cálculo (s)\")\n",
    "plt.title(\"Comparativa: Tiempo de cálculo del Logaritmo Discreto\")\n",
    "plt.grid(True)\n",
    "plt.legend()\n",
    "plt.show()"
   ]
  },
  {
   "cell_type": "code",
   "execution_count": null,
   "metadata": {},
   "outputs": [],
   "source": []
  }
 ],
 "metadata": {
  "kernelspec": {
   "display_name": "base",
   "language": "python",
   "name": "python3"
  },
  "language_info": {
   "codemirror_mode": {
    "name": "ipython",
    "version": 3
   },
   "file_extension": ".py",
   "mimetype": "text/x-python",
   "name": "python",
   "nbconvert_exporter": "python",
   "pygments_lexer": "ipython3",
   "version": "3.11.7"
  }
 },
 "nbformat": 4,
 "nbformat_minor": 2
}
